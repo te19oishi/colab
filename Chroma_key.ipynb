{
  "nbformat": 4,
  "nbformat_minor": 0,
  "metadata": {
    "colab": {
      "provenance": [],
      "authorship_tag": "ABX9TyPtGFPT8qLA+HkiJlMzYnwc",
      "include_colab_link": true
    },
    "kernelspec": {
      "name": "python3",
      "display_name": "Python 3"
    },
    "language_info": {
      "name": "python"
    }
  },
  "cells": [
    {
      "cell_type": "markdown",
      "metadata": {
        "id": "view-in-github",
        "colab_type": "text"
      },
      "source": [
        "<a href=\"https://colab.research.google.com/github/te19oishi/colab/blob/main/Chroma_key.ipynb\" target=\"_parent\"><img src=\"https://colab.research.google.com/assets/colab-badge.svg\" alt=\"Open In Colab\"/></a>"
      ]
    },
    {
      "cell_type": "code",
      "source": [
        "from PIL import Image\n",
        "\n",
        "# 画像の読み出し。1が背景(クロマキー)\n",
        "im1 = Image.open('download1.jpg')\n",
        "im2 = Image.open('download.jpg')\n",
        "\n",
        "# 画像を同じサイズにリサイズする\n",
        "if im1.size <= im2.size:\n",
        "  im1 = im1.resize(im2.size)\n",
        "else:\n",
        "  im2 = im2.resize(im1.size)\n",
        "\n",
        "# グリーンバックの画像をHSV変換\n",
        "im1_hsv = im1.convert('HSV')\n",
        "\n",
        "# HSV画像をチャンネル別に分割\n",
        "source = im1_hsv.split()\n",
        "\n",
        "# Hが81から90の範囲を採用し画素値を255としてマスク画像を作成\n",
        "mask = source[0].point(lambda i: 81< i <90 and 255)\n",
        "\n",
        "# マスク画像の白にim2、マスク画像の黒部分にim1を割り当てて合成\n",
        "im = Image.composite(im2, im1, mask)\n",
        "\n",
        "# 画像の保存\n",
        "im.save('shopping_in_czech.jpg')"
      ],
      "metadata": {
        "id": "PsODEId1EM4W"
      },
      "execution_count": 89,
      "outputs": []
    }
  ]
}
