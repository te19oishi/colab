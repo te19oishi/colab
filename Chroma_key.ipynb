{
  "nbformat": 4,
  "nbformat_minor": 0,
  "metadata": {
    "colab": {
      "provenance": [],
      "authorship_tag": "ABX9TyMHbyx1EhfNfu72iyWkG7wS",
      "include_colab_link": true
    },
    "kernelspec": {
      "name": "python3",
      "display_name": "Python 3"
    },
    "language_info": {
      "name": "python"
    }
  },
  "cells": [
    {
      "cell_type": "markdown",
      "metadata": {
        "id": "view-in-github",
        "colab_type": "text"
      },
      "source": [
        "<a href=\"https://colab.research.google.com/github/te19oishi/colab/blob/main/Chroma_key.ipynb\" target=\"_parent\"><img src=\"https://colab.research.google.com/assets/colab-badge.svg\" alt=\"Open In Colab\"/></a>"
      ]
    },
    {
      "cell_type": "code",
      "source": [
        "from PIL import Image\n",
        "\n",
        "# 画像の読み出し\n",
        "im1 = Image.open('download1.jpg')\n",
        "im2 = Image.open('download.jpg')\n",
        "\n",
        "# 画像を同じサイズにリサイズする\n",
        "if im1.size <= im2.size:\n",
        "  im1 = im1.resize(im2.size)\n",
        "else:\n",
        "  im2 = im2.resize(im1.size)\n",
        "\n",
        "# グリーンバックの画像をHSV変換\n",
        "im1_hsv = im1.convert('HSV')\n",
        "\n",
        "# HSV画像をチャンネル別に分割\n",
        "source = im1_hsv.split()\n",
        "\n",
        "# Hが81から90の範囲を採用し画素値を255としてマスク画像を作成\n",
        "mask = source[0].point(lambda i: 81< i <90 and 255)\n",
        "\n",
        "# マスク画像の白にim2、マスク画像の黒部分にim1を割り当てて合成\n",
        "im = Image.composite(im2, im1, mask)\n",
        "\n",
        "# 画像の保存\n",
        "im.save('chroma_key.jpg')\n",
        "\n",
        "#考察\n",
        "#PIL(Python Image Library)を利用した。画像のサイズが違うとうまく合成できなかったため、\n",
        "#リサイズを行い、画像のサイズが大きいほうに合わせるようにした。\n",
        "#Hが81から90の範囲でクロマキーの緑の判定を行った。\n",
        "#しかし若干淵の部分が残ってしまっているのは、画像のサイズが小さかったり、\n",
        "#画質が良くなかったりすることによりうまくHの値に変換できなかったと考えられる。\n",
        "#81～90の範囲を広げても反応しなかった。\n",
        "#元の画像をよく見ても若干ノイズが入っていることが分かる。\n",
        "#参考にしたサイト:https://tat-pytone.hatenablog.com/entry/2021/12/22/202936"
      ],
      "metadata": {
        "id": "PsODEId1EM4W"
      },
      "execution_count": null,
      "outputs": []
    }
  ]
}